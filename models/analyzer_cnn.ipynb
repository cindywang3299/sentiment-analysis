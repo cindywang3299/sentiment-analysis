{
 "cells": [
  {
   "cell_type": "code",
   "execution_count": 1,
   "metadata": {},
   "outputs": [],
   "source": [
    "import pandas as pd  \n",
    "import numpy as np\n",
    "import matplotlib.pyplot as plt\n",
    "\n",
    "plt.style.use('fivethirtyeight')\n",
    "%matplotlib inline\n",
    "%config InlineBackend.figure_format = 'retina'"
   ]
  },
  {
   "cell_type": "code",
   "execution_count": 2,
   "metadata": {},
   "outputs": [
    {
     "name": "stderr",
     "output_type": "stream",
     "text": [
      "/Users/apple/anaconda3/lib/python2.7/site-packages/numpy/lib/arraysetops.py:569: FutureWarning: elementwise comparison failed; returning scalar instead, but in the future will perform elementwise comparison\n",
      "  mask |= (ar1 == a)\n"
     ]
    },
    {
     "data": {
      "text/html": [
       "<div>\n",
       "<style scoped>\n",
       "    .dataframe tbody tr th:only-of-type {\n",
       "        vertical-align: middle;\n",
       "    }\n",
       "\n",
       "    .dataframe tbody tr th {\n",
       "        vertical-align: top;\n",
       "    }\n",
       "\n",
       "    .dataframe thead th {\n",
       "        text-align: right;\n",
       "    }\n",
       "</style>\n",
       "<table border=\"1\" class=\"dataframe\">\n",
       "  <thead>\n",
       "    <tr style=\"text-align: right;\">\n",
       "      <th></th>\n",
       "      <th>text</th>\n",
       "      <th>target</th>\n",
       "    </tr>\n",
       "  </thead>\n",
       "  <tbody>\n",
       "    <tr>\n",
       "      <th>0</th>\n",
       "      <td>awww that bummer you shoulda got david carr of...</td>\n",
       "      <td>0</td>\n",
       "    </tr>\n",
       "    <tr>\n",
       "      <th>1</th>\n",
       "      <td>is upset that he can not update his facebook b...</td>\n",
       "      <td>0</td>\n",
       "    </tr>\n",
       "    <tr>\n",
       "      <th>2</th>\n",
       "      <td>dived many times for the ball managed to save ...</td>\n",
       "      <td>0</td>\n",
       "    </tr>\n",
       "    <tr>\n",
       "      <th>3</th>\n",
       "      <td>my whole body feels itchy and like its on fire</td>\n",
       "      <td>0</td>\n",
       "    </tr>\n",
       "    <tr>\n",
       "      <th>4</th>\n",
       "      <td>no it not behaving at all mad why am here beca...</td>\n",
       "      <td>0</td>\n",
       "    </tr>\n",
       "  </tbody>\n",
       "</table>\n",
       "</div>"
      ],
      "text/plain": [
       "                                                text  target\n",
       "0  awww that bummer you shoulda got david carr of...       0\n",
       "1  is upset that he can not update his facebook b...       0\n",
       "2  dived many times for the ball managed to save ...       0\n",
       "3     my whole body feels itchy and like its on fire       0\n",
       "4  no it not behaving at all mad why am here beca...       0"
      ]
     },
     "execution_count": 2,
     "metadata": {},
     "output_type": "execute_result"
    }
   ],
   "source": [
    "# Read preprocessed data\n",
    "csv = 'clean_tweet.csv'\n",
    "my_df = pd.read_csv(csv,index_col=0)\n",
    "\n",
    "# Get rid of 'NaN' in text\n",
    "df_new = my_df[my_df['text'].notnull()]\n",
    "df_new.head()"
   ]
  },
  {
   "cell_type": "markdown",
   "metadata": {},
   "source": [
    "### Model "
   ]
  },
  {
   "cell_type": "code",
   "execution_count": 3,
   "metadata": {},
   "outputs": [],
   "source": [
    "x = df_new.text\n",
    "y = df_new.target"
   ]
  },
  {
   "cell_type": "code",
   "execution_count": 4,
   "metadata": {},
   "outputs": [],
   "source": [
    "from sklearn.model_selection import train_test_split\n",
    "SEED = 2000\n",
    "\n",
    "x_train, x_validation_and_test, y_train, y_validation_and_test = train_test_split(x, y, test_size=.2, random_state=SEED)\n",
    "x_validation, x_test, y_validation, y_test = train_test_split(x_validation_and_test, y_validation_and_test, test_size=.5, random_state=SEED)"
   ]
  },
  {
   "cell_type": "code",
   "execution_count": 5,
   "metadata": {},
   "outputs": [
    {
     "name": "stdout",
     "output_type": "stream",
     "text": [
      "Train set has total 1276832 entries with 49.97% negative, 50.03% positive\n",
      "Validation set has total 159604 entries with 50.03% negative, 49.97% positive\n",
      "Test set has total 159605 entries with 50.34% negative, 49.66% positive\n"
     ]
    }
   ],
   "source": [
    "print(\"Train set has total {0} entries with {1:.2f}% negative, {2:.2f}% positive\".format(len(x_train),\n",
    "                                                                             (len(x_train[y_train == 0]) / (len(x_train)*1.))*100,\n",
    "                                                                            (len(x_train[y_train == 1]) / (len(x_train)*1.))*100)) \n",
    "print(\"Validation set has total {0} entries with {1:.2f}% negative, {2:.2f}% positive\".format(len(x_validation),\n",
    "                                                                             (len(x_validation[y_validation == 0]) / (len(x_validation)*1.))*100,\n",
    "                                                                            (len(x_validation[y_validation == 1]) / (len(x_validation)*1.))*100)) \n",
    "print(\"Test set has total {0} entries with {1:.2f}% negative, {2:.2f}% positive\".format(len(x_test),\n",
    "                                                                             (len(x_test[y_test == 0]) / (len(x_test)*1.))*100,\n",
    "                                                                            (len(x_test[y_test == 1]) / (len(x_test)*1.))*100)) "
   ]
  },
  {
   "cell_type": "code",
   "execution_count": 6,
   "metadata": {},
   "outputs": [],
   "source": [
    "# Training\n",
    "from tqdm import tqdm\n",
    "import gensim\n",
    "from gensim.models.word2vec import Word2Vec\n",
    "from gensim.models.doc2vec import TaggedDocument\n",
    "import multiprocessing\n",
    "from sklearn import utils\n",
    "\n",
    "def labelize_tweets_ug(tweets,label):\n",
    "    result = []\n",
    "    prefix = label\n",
    "    for i, t in zip(tweets.index, tweets):\n",
    "        result.append(TaggedDocument(t.split(), [prefix + '_%s' % i]))\n",
    "    return result"
   ]
  },
  {
   "cell_type": "code",
   "execution_count": 7,
   "metadata": {},
   "outputs": [],
   "source": [
    "all_x = pd.concat([x_train,x_validation,x_test])\n",
    "all_x_w2v = labelize_tweets_ug(all_x, 'all')"
   ]
  },
  {
   "cell_type": "code",
   "execution_count": 8,
   "metadata": {},
   "outputs": [
    {
     "name": "stderr",
     "output_type": "stream",
     "text": [
      "100%|██████████| 1596041/1596041 [00:01<00:00, 1348563.46it/s]\n"
     ]
    }
   ],
   "source": [
    "cores = multiprocessing.cpu_count()\n",
    "model_ug_cbow = Word2Vec(sg=0, size=100, negative=5, window=2, min_count=2, workers=cores, alpha=0.065, min_alpha=0.065)\n",
    "model_ug_cbow.build_vocab([x.words for x in tqdm(all_x_w2v)])"
   ]
  },
  {
   "cell_type": "code",
   "execution_count": 9,
   "metadata": {},
   "outputs": [
    {
     "name": "stderr",
     "output_type": "stream",
     "text": [
      "100%|██████████| 1596041/1596041 [00:01<00:00, 1371647.66it/s]\n",
      "100%|██████████| 1596041/1596041 [00:01<00:00, 1283221.15it/s]\n",
      "100%|██████████| 1596041/1596041 [00:01<00:00, 1287633.65it/s]\n",
      "100%|██████████| 1596041/1596041 [00:01<00:00, 1318102.18it/s]\n",
      "100%|██████████| 1596041/1596041 [00:01<00:00, 1340739.97it/s]\n",
      "100%|██████████| 1596041/1596041 [00:01<00:00, 1262871.29it/s]\n",
      "100%|██████████| 1596041/1596041 [00:01<00:00, 1323620.30it/s]\n",
      "100%|██████████| 1596041/1596041 [00:01<00:00, 1374326.22it/s]\n",
      "100%|██████████| 1596041/1596041 [00:01<00:00, 1338503.67it/s]\n",
      "100%|██████████| 1596041/1596041 [00:01<00:00, 1328306.29it/s]\n",
      "100%|██████████| 1596041/1596041 [00:01<00:00, 1360126.98it/s]\n",
      "100%|██████████| 1596041/1596041 [00:01<00:00, 1312661.29it/s]\n",
      "100%|██████████| 1596041/1596041 [00:01<00:00, 1368852.44it/s]\n",
      "100%|██████████| 1596041/1596041 [00:01<00:00, 1355944.11it/s]\n",
      "100%|██████████| 1596041/1596041 [00:01<00:00, 1323672.65it/s]\n",
      "100%|██████████| 1596041/1596041 [00:01<00:00, 1381215.06it/s]\n",
      "100%|██████████| 1596041/1596041 [00:01<00:00, 1357825.32it/s]\n",
      "100%|██████████| 1596041/1596041 [00:01<00:00, 1353400.69it/s]\n",
      "100%|██████████| 1596041/1596041 [00:01<00:00, 1259886.78it/s]\n",
      "100%|██████████| 1596041/1596041 [00:01<00:00, 1394827.30it/s]\n",
      "100%|██████████| 1596041/1596041 [00:01<00:00, 1331772.00it/s]\n",
      "100%|██████████| 1596041/1596041 [00:01<00:00, 1327317.59it/s]\n",
      "100%|██████████| 1596041/1596041 [00:01<00:00, 1350873.87it/s]\n",
      "100%|██████████| 1596041/1596041 [00:01<00:00, 1347858.31it/s]\n",
      "100%|██████████| 1596041/1596041 [00:01<00:00, 1368263.50it/s]\n",
      "100%|██████████| 1596041/1596041 [00:01<00:00, 1322695.27it/s]\n",
      "100%|██████████| 1596041/1596041 [00:01<00:00, 1382879.94it/s]\n",
      "100%|██████████| 1596041/1596041 [00:01<00:00, 1295044.11it/s]\n",
      "100%|██████████| 1596041/1596041 [00:01<00:00, 1108970.25it/s]\n",
      "100%|██████████| 1596041/1596041 [00:01<00:00, 1327063.68it/s]\n"
     ]
    }
   ],
   "source": [
    "for epoch in range(30):\n",
    "    model_ug_cbow.train(utils.shuffle([x.words for x in tqdm(all_x_w2v)]), total_examples=len(all_x_w2v), epochs=1)\n",
    "    model_ug_cbow.alpha -= 0.002\n",
    "    model_ug_cbow.min_alpha = model_ug_cbow.alpha"
   ]
  },
  {
   "cell_type": "code",
   "execution_count": 10,
   "metadata": {},
   "outputs": [
    {
     "name": "stderr",
     "output_type": "stream",
     "text": [
      "100%|██████████| 1596041/1596041 [00:01<00:00, 1241026.60it/s]\n"
     ]
    }
   ],
   "source": [
    "model_ug_sg = Word2Vec(sg=1, size=100, negative=5, window=2, min_count=2, workers=cores, alpha=0.065, min_alpha=0.065)\n",
    "model_ug_sg.build_vocab([x.words for x in tqdm(all_x_w2v)])"
   ]
  },
  {
   "cell_type": "code",
   "execution_count": 11,
   "metadata": {},
   "outputs": [
    {
     "name": "stderr",
     "output_type": "stream",
     "text": [
      "100%|██████████| 1596041/1596041 [00:01<00:00, 1335969.20it/s]\n",
      "100%|██████████| 1596041/1596041 [00:01<00:00, 1365840.88it/s]\n",
      "100%|██████████| 1596041/1596041 [00:01<00:00, 1329304.38it/s]\n",
      "100%|██████████| 1596041/1596041 [00:01<00:00, 1296574.92it/s]\n",
      "100%|██████████| 1596041/1596041 [00:01<00:00, 1180721.08it/s]\n",
      "100%|██████████| 1596041/1596041 [00:01<00:00, 1119529.07it/s]\n",
      "100%|██████████| 1596041/1596041 [00:01<00:00, 1325481.07it/s]\n",
      "100%|██████████| 1596041/1596041 [00:01<00:00, 1253010.71it/s]\n",
      "100%|██████████| 1596041/1596041 [00:01<00:00, 1359471.25it/s]\n",
      "100%|██████████| 1596041/1596041 [00:01<00:00, 1330600.65it/s]\n",
      "100%|██████████| 1596041/1596041 [00:01<00:00, 1367806.12it/s]\n",
      "100%|██████████| 1596041/1596041 [00:01<00:00, 1382104.78it/s]\n",
      "100%|██████████| 1596041/1596041 [00:01<00:00, 1281801.94it/s]\n",
      "100%|██████████| 1596041/1596041 [00:01<00:00, 1275474.58it/s]\n",
      "100%|██████████| 1596041/1596041 [00:01<00:00, 1343085.61it/s]\n",
      "100%|██████████| 1596041/1596041 [00:01<00:00, 1401573.86it/s]\n",
      "100%|██████████| 1596041/1596041 [00:01<00:00, 1381655.21it/s]\n",
      "100%|██████████| 1596041/1596041 [00:01<00:00, 1314917.89it/s]\n",
      "100%|██████████| 1596041/1596041 [00:01<00:00, 1323206.40it/s]\n",
      "100%|██████████| 1596041/1596041 [00:01<00:00, 1374962.19it/s]\n",
      "100%|██████████| 1596041/1596041 [00:01<00:00, 1350378.74it/s]\n",
      "100%|██████████| 1596041/1596041 [00:01<00:00, 1279580.19it/s]\n",
      "100%|██████████| 1596041/1596041 [00:01<00:00, 1274971.49it/s]\n",
      "100%|██████████| 1596041/1596041 [00:01<00:00, 1354136.85it/s]\n",
      "100%|██████████| 1596041/1596041 [00:01<00:00, 1274157.08it/s]\n",
      "100%|██████████| 1596041/1596041 [00:01<00:00, 1321560.96it/s]\n",
      "100%|██████████| 1596041/1596041 [00:01<00:00, 1149270.11it/s]\n",
      "100%|██████████| 1596041/1596041 [00:01<00:00, 1371903.75it/s]\n",
      "100%|██████████| 1596041/1596041 [00:01<00:00, 1355191.99it/s]\n",
      "100%|██████████| 1596041/1596041 [00:01<00:00, 1392669.54it/s]\n"
     ]
    }
   ],
   "source": [
    "for epoch in range(30):\n",
    "    model_ug_sg.train(utils.shuffle([x.words for x in tqdm(all_x_w2v)]), total_examples=len(all_x_w2v), epochs=1)\n",
    "    model_ug_sg.alpha -= 0.002\n",
    "    model_ug_sg.min_alpha = model_ug_sg.alpha"
   ]
  },
  {
   "cell_type": "code",
   "execution_count": 12,
   "metadata": {},
   "outputs": [],
   "source": [
    "model_ug_cbow.save('w2v_model_ug_cbow.word2vec')\n",
    "model_ug_sg.save('w2v_model_ug_sg.word2vec')"
   ]
  },
  {
   "cell_type": "markdown",
   "metadata": {},
   "source": [
    "### Preparation"
   ]
  },
  {
   "cell_type": "code",
   "execution_count": 13,
   "metadata": {},
   "outputs": [
    {
     "name": "stdout",
     "output_type": "stream",
     "text": [
      "Found 106259 word vectors.\n"
     ]
    }
   ],
   "source": [
    "from gensim.models import KeyedVectors\n",
    "model_ug_cbow = KeyedVectors.load('w2v_model_ug_cbow.word2vec')\n",
    "model_ug_sg = KeyedVectors.load('w2v_model_ug_sg.word2vec')\n",
    "\n",
    "embeddings_index = {}\n",
    "for w in model_ug_cbow.wv.vocab.keys():\n",
    "    embeddings_index[w] = np.append(model_ug_cbow.wv[w],model_ug_sg.wv[w])\n",
    "print('Found %s word vectors.' % len(embeddings_index))"
   ]
  },
  {
   "cell_type": "code",
   "execution_count": 14,
   "metadata": {},
   "outputs": [
    {
     "name": "stderr",
     "output_type": "stream",
     "text": [
      "Using TensorFlow backend.\n"
     ]
    },
    {
     "data": {
      "text/plain": [
       "231740"
      ]
     },
     "execution_count": 14,
     "metadata": {},
     "output_type": "execute_result"
    }
   ],
   "source": [
    "# Tokenization\n",
    "from keras.preprocessing.text import Tokenizer\n",
    "from keras.preprocessing.sequence import pad_sequences\n",
    "\n",
    "tokenizer = Tokenizer(num_words=100000)\n",
    "tokenizer.fit_on_texts(x_train)\n",
    "sequences = tokenizer.texts_to_sequences(x_train)\n",
    "\n",
    "len(tokenizer.word_index)"
   ]
  },
  {
   "cell_type": "code",
   "execution_count": 27,
   "metadata": {},
   "outputs": [
    {
     "name": "stdout",
     "output_type": "stream",
     "text": [
      "hey thnx for the wishes on me going indie the other day the breathing will soon turn into huffing puffing for clients\n",
      "woken up by the sound of thunder today wow\n",
      "mates house so can see eggnog again in morning saw him an hour or so ago haha eggnog eoghan factor\n",
      "hello loving yer election buildup so far how are ya this morning\n",
      "finished my lab report just need the worksheet anywaysi got janas straightner she gave it to me sounds likei stole it yay\n"
     ]
    }
   ],
   "source": [
    "# First five entries of original data\n",
    "for x in x_train[:5]:\n",
    "    print x"
   ]
  },
  {
   "cell_type": "code",
   "execution_count": 28,
   "metadata": {},
   "outputs": [
    {
     "data": {
      "text/plain": [
       "[[141,\n",
       "  2525,\n",
       "  10,\n",
       "  2,\n",
       "  899,\n",
       "  12,\n",
       "  14,\n",
       "  41,\n",
       "  6321,\n",
       "  2,\n",
       "  248,\n",
       "  29,\n",
       "  2,\n",
       "  4280,\n",
       "  44,\n",
       "  153,\n",
       "  661,\n",
       "  230,\n",
       "  40242,\n",
       "  23856,\n",
       "  10,\n",
       "  3184],\n",
       " [2209, 28, 117, 2, 620, 11, 1437, 37, 235],\n",
       " [2774,\n",
       "  206,\n",
       "  15,\n",
       "  26,\n",
       "  58,\n",
       "  36468,\n",
       "  99,\n",
       "  9,\n",
       "  89,\n",
       "  267,\n",
       "  138,\n",
       "  87,\n",
       "  338,\n",
       "  96,\n",
       "  15,\n",
       "  442,\n",
       "  97,\n",
       "  36468,\n",
       "  21247,\n",
       "  4857],\n",
       " [424, 644, 2979, 4958, 53107, 15, 340, 63, 33, 239, 24, 89],\n",
       " [351,\n",
       "  3,\n",
       "  2427,\n",
       "  1530,\n",
       "  18,\n",
       "  84,\n",
       "  2,\n",
       "  31178,\n",
       "  93334,\n",
       "  45,\n",
       "  65852,\n",
       "  23857,\n",
       "  102,\n",
       "  701,\n",
       "  4,\n",
       "  1,\n",
       "  14,\n",
       "  300,\n",
       "  93335,\n",
       "  2219,\n",
       "  4,\n",
       "  196]]"
      ]
     },
     "execution_count": 28,
     "metadata": {},
     "output_type": "execute_result"
    }
   ],
   "source": [
    "# Data as sequential dats\n",
    "sequences[:5]"
   ]
  },
  {
   "cell_type": "code",
   "execution_count": 29,
   "metadata": {},
   "outputs": [
    {
     "data": {
      "text/plain": [
       "40"
      ]
     },
     "execution_count": 29,
     "metadata": {},
     "output_type": "execute_result"
    }
   ],
   "source": [
    "length = []\n",
    "for x in x_train:\n",
    "    length.append(len(x.split()))\n",
    "    \n",
    "max(length)"
   ]
  },
  {
   "cell_type": "code",
   "execution_count": 30,
   "metadata": {},
   "outputs": [
    {
     "name": "stdout",
     "output_type": "stream",
     "text": [
      "('Shape of data tensor:', (1276832, 45))\n"
     ]
    }
   ],
   "source": [
    "x_train_seq = pad_sequences(sequences, maxlen=45)\n",
    "print('Shape of data tensor:', x_train_seq.shape)"
   ]
  },
  {
   "cell_type": "code",
   "execution_count": 19,
   "metadata": {},
   "outputs": [
    {
     "data": {
      "text/plain": [
       "array([[    0,     0,     0,     0,     0,     0,     0,     0,     0,\n",
       "            0,     0,     0,     0,     0,     0,     0,     0,     0,\n",
       "            0,     0,     0,     0,     0,   141,  2525,    10,     2,\n",
       "          899,    12,    14,    41,  6321,     2,   248,    29,     2,\n",
       "         4280,    44,   153,   661,   230, 40242, 23856,    10,  3184],\n",
       "       [    0,     0,     0,     0,     0,     0,     0,     0,     0,\n",
       "            0,     0,     0,     0,     0,     0,     0,     0,     0,\n",
       "            0,     0,     0,     0,     0,     0,     0,     0,     0,\n",
       "            0,     0,     0,     0,     0,     0,     0,     0,     0,\n",
       "         2209,    28,   117,     2,   620,    11,  1437,    37,   235],\n",
       "       [    0,     0,     0,     0,     0,     0,     0,     0,     0,\n",
       "            0,     0,     0,     0,     0,     0,     0,     0,     0,\n",
       "            0,     0,     0,     0,     0,     0,     0,  2774,   206,\n",
       "           15,    26,    58, 36468,    99,     9,    89,   267,   138,\n",
       "           87,   338,    96,    15,   442,    97, 36468, 21247,  4857],\n",
       "       [    0,     0,     0,     0,     0,     0,     0,     0,     0,\n",
       "            0,     0,     0,     0,     0,     0,     0,     0,     0,\n",
       "            0,     0,     0,     0,     0,     0,     0,     0,     0,\n",
       "            0,     0,     0,     0,     0,     0,   424,   644,  2979,\n",
       "         4958, 53107,    15,   340,    63,    33,   239,    24,    89],\n",
       "       [    0,     0,     0,     0,     0,     0,     0,     0,     0,\n",
       "            0,     0,     0,     0,     0,     0,     0,     0,     0,\n",
       "            0,     0,     0,     0,     0,   351,     3,  2427,  1530,\n",
       "           18,    84,     2, 31178, 93334,    45, 65852, 23857,   102,\n",
       "          701,     4,     1,    14,   300, 93335,  2219,     4,   196]],\n",
       "      dtype=int32)"
      ]
     },
     "execution_count": 19,
     "metadata": {},
     "output_type": "execute_result"
    }
   ],
   "source": [
    "x_train_seq[:5]"
   ]
  },
  {
   "cell_type": "code",
   "execution_count": 20,
   "metadata": {},
   "outputs": [],
   "source": [
    "sequences_val = tokenizer.texts_to_sequences(x_validation)\n",
    "x_val_seq = pad_sequences(sequences_val, maxlen=45)"
   ]
  },
  {
   "cell_type": "code",
   "execution_count": 31,
   "metadata": {},
   "outputs": [],
   "source": [
    "num_words = 100000\n",
    "embedding_matrix = np.zeros((num_words, 200))\n",
    "for word, i in tokenizer.word_index.items():\n",
    "    if i >= num_words:\n",
    "        continue\n",
    "    embedding_vector = embeddings_index.get(word)\n",
    "    if embedding_vector is not None:\n",
    "        embedding_matrix[i] = embedding_vector"
   ]
  },
  {
   "cell_type": "code",
   "execution_count": 32,
   "metadata": {},
   "outputs": [],
   "source": [
    "seed = 7\n",
    "\n",
    "from keras.models import Sequential\n",
    "from keras.layers import Dense, Dropout\n",
    "from keras.layers import Flatten\n",
    "from keras.layers.embeddings import Embedding"
   ]
  },
  {
   "cell_type": "code",
   "execution_count": 33,
   "metadata": {
    "scrolled": true
   },
   "outputs": [
    {
     "name": "stdout",
     "output_type": "stream",
     "text": [
      "Train on 1276832 samples, validate on 159604 samples\n",
      "Epoch 1/5\n",
      " - 843s - loss: 0.4641 - acc: 0.7779 - val_loss: 0.4468 - val_acc: 0.7889\n",
      "Epoch 2/5\n",
      " - 806s - loss: 0.4261 - acc: 0.8016 - val_loss: 0.4461 - val_acc: 0.7906\n",
      "Epoch 3/5\n",
      " - 864s - loss: 0.3945 - acc: 0.8198 - val_loss: 0.4577 - val_acc: 0.7893\n",
      "Epoch 4/5\n",
      " - 840s - loss: 0.3622 - acc: 0.8376 - val_loss: 0.4724 - val_acc: 0.7865\n",
      "Epoch 5/5\n",
      " - 825s - loss: 0.3322 - acc: 0.8532 - val_loss: 0.5055 - val_acc: 0.7807\n"
     ]
    },
    {
     "data": {
      "text/plain": [
       "<keras.callbacks.History at 0x1ad3bedd10>"
      ]
     },
     "execution_count": 33,
     "metadata": {},
     "output_type": "execute_result"
    }
   ],
   "source": [
    "# \n",
    "model_ptw2v = Sequential()\n",
    "e = Embedding(100000, 200, weights=[embedding_matrix], input_length=45, trainable=False)\n",
    "model_ptw2v.add(e)\n",
    "model_ptw2v.add(Flatten())\n",
    "model_ptw2v.add(Dense(256, activation='relu'))\n",
    "model_ptw2v.add(Dense(1, activation='sigmoid'))\n",
    "model_ptw2v.compile(loss='binary_crossentropy', optimizer='adam', metrics=['accuracy'])\n",
    "model_ptw2v.fit(x_train_seq, y_train, validation_data=(x_val_seq, y_validation), epochs=5, batch_size=32, verbose=2)"
   ]
  },
  {
   "cell_type": "code",
   "execution_count": 36,
   "metadata": {},
   "outputs": [
    {
     "name": "stdout",
     "output_type": "stream",
     "text": [
      "Train on 1276832 samples, validate on 159604 samples\n",
      "Epoch 1/5\n",
      " - 7619s - loss: 0.4267 - acc: 0.8034 - val_loss: 0.4049 - val_acc: 0.8169\n",
      "Epoch 2/5\n",
      " - 7078s - loss: 0.3703 - acc: 0.8352 - val_loss: 0.4060 - val_acc: 0.8176\n",
      "Epoch 3/5\n",
      " - 7059s - loss: 0.3132 - acc: 0.8647 - val_loss: 0.4411 - val_acc: 0.8088\n",
      "Epoch 4/5\n",
      " - 7082s - loss: 0.2539 - acc: 0.8936 - val_loss: 0.4918 - val_acc: 0.7975\n",
      "Epoch 5/5\n",
      " - 7084s - loss: 0.2054 - acc: 0.9156 - val_loss: 0.5701 - val_acc: 0.7901\n"
     ]
    },
    {
     "data": {
      "text/plain": [
       "<keras.callbacks.History at 0x1abca53450>"
      ]
     },
     "execution_count": 36,
     "metadata": {},
     "output_type": "execute_result"
    }
   ],
   "source": [
    "model_ptw2v = Sequential()\n",
    "e = Embedding(100000, 200, input_length=45)\n",
    "model_ptw2v.add(e)\n",
    "model_ptw2v.add(Flatten())\n",
    "model_ptw2v.add(Dense(256, activation='relu'))\n",
    "model_ptw2v.add(Dense(1, activation='sigmoid'))\n",
    "model_ptw2v.compile(loss='binary_crossentropy', optimizer='adam', metrics=['accuracy'])\n",
    "model_ptw2v.fit(x_train_seq, y_train, validation_data=(x_val_seq, y_validation), epochs=5, batch_size=32, verbose=2)"
   ]
  },
  {
   "cell_type": "code",
   "execution_count": 37,
   "metadata": {},
   "outputs": [
    {
     "name": "stdout",
     "output_type": "stream",
     "text": [
      "Train on 1276832 samples, validate on 159604 samples\n",
      "Epoch 1/5\n",
      " - 7175s - loss: 0.4267 - acc: 0.8026 - val_loss: 0.4081 - val_acc: 0.8156\n",
      "Epoch 2/5\n",
      " - 7277s - loss: 0.3774 - acc: 0.8310 - val_loss: 0.4086 - val_acc: 0.8183\n",
      "Epoch 3/5\n",
      " - 7372s - loss: 0.3333 - acc: 0.8542 - val_loss: 0.4337 - val_acc: 0.8139\n",
      "Epoch 4/5\n",
      " - 7574s - loss: 0.2805 - acc: 0.8802 - val_loss: 0.4670 - val_acc: 0.8072\n",
      "Epoch 5/5\n",
      " - 7345s - loss: 0.2313 - acc: 0.9033 - val_loss: 0.5430 - val_acc: 0.8000\n"
     ]
    },
    {
     "data": {
      "text/plain": [
       "<keras.callbacks.History at 0x1af91ba490>"
      ]
     },
     "execution_count": 37,
     "metadata": {},
     "output_type": "execute_result"
    }
   ],
   "source": [
    "model_ptw2v = Sequential()\n",
    "e = Embedding(100000, 200, weights=[embedding_matrix], input_length=45, trainable=True)\n",
    "model_ptw2v.add(e)\n",
    "model_ptw2v.add(Flatten())\n",
    "model_ptw2v.add(Dense(256, activation='relu'))\n",
    "model_ptw2v.add(Dense(1, activation='sigmoid'))\n",
    "model_ptw2v.compile(loss='binary_crossentropy', optimizer='adam', metrics=['accuracy'])\n",
    "model_ptw2v.fit(x_train_seq, y_train, validation_data=(x_val_seq, y_validation), epochs=5, batch_size=32, verbose=2)"
   ]
  },
  {
   "cell_type": "markdown",
   "metadata": {},
   "source": [
    "### Convolutional Neural Network"
   ]
  },
  {
   "cell_type": "code",
   "execution_count": 24,
   "metadata": {},
   "outputs": [],
   "source": [
    "from keras.layers import Conv1D, GlobalMaxPooling1D"
   ]
  },
  {
   "cell_type": "code",
   "execution_count": 38,
   "metadata": {},
   "outputs": [
    {
     "name": "stdout",
     "output_type": "stream",
     "text": [
      "_________________________________________________________________\n",
      "Layer (type)                 Output Shape              Param #   \n",
      "=================================================================\n",
      "embedding_7 (Embedding)      (None, 45, 200)           20000000  \n",
      "_________________________________________________________________\n",
      "conv1d_1 (Conv1D)            (None, 44, 100)           40100     \n",
      "=================================================================\n",
      "Total params: 20,040,100\n",
      "Trainable params: 20,040,100\n",
      "Non-trainable params: 0\n",
      "_________________________________________________________________\n"
     ]
    }
   ],
   "source": [
    "structure_test = Sequential()\n",
    "e = Embedding(100000, 200,input_length=45)\n",
    "structure_test.add(e)\n",
    "structure_test.add(Conv1D(filters=100, kernel_size=2, padding='valid', activation='relu', strides=1))\n",
    "structure_test.summary()"
   ]
  },
  {
   "cell_type": "code",
   "execution_count": 39,
   "metadata": {},
   "outputs": [
    {
     "name": "stdout",
     "output_type": "stream",
     "text": [
      "_________________________________________________________________\n",
      "Layer (type)                 Output Shape              Param #   \n",
      "=================================================================\n",
      "embedding_8 (Embedding)      (None, 45, 200)           20000000  \n",
      "_________________________________________________________________\n",
      "conv1d_2 (Conv1D)            (None, 44, 100)           40100     \n",
      "_________________________________________________________________\n",
      "global_max_pooling1d_1 (Glob (None, 100)               0         \n",
      "=================================================================\n",
      "Total params: 20,040,100\n",
      "Trainable params: 20,040,100\n",
      "Non-trainable params: 0\n",
      "_________________________________________________________________\n"
     ]
    }
   ],
   "source": [
    "structure_test = Sequential()\n",
    "e = Embedding(100000, 200, input_length=45)\n",
    "structure_test.add(e)\n",
    "structure_test.add(Conv1D(filters=100, kernel_size=2, padding='valid', activation='relu', strides=1))\n",
    "structure_test.add(GlobalMaxPooling1D())\n",
    "structure_test.summary()"
   ]
  },
  {
   "cell_type": "code",
   "execution_count": 40,
   "metadata": {},
   "outputs": [
    {
     "name": "stdout",
     "output_type": "stream",
     "text": [
      "Train on 1276832 samples, validate on 159604 samples\n",
      "Epoch 1/5\n",
      " - 578s - loss: 0.4201 - acc: 0.8058 - val_loss: 0.4097 - val_acc: 0.8119\n",
      "Epoch 2/5\n",
      " - 575s - loss: 0.3986 - acc: 0.8187 - val_loss: 0.3976 - val_acc: 0.8201\n",
      "Epoch 3/5\n",
      " - 579s - loss: 0.3913 - acc: 0.8227 - val_loss: 0.3934 - val_acc: 0.8217\n",
      "Epoch 4/5\n",
      " - 577s - loss: 0.3869 - acc: 0.8250 - val_loss: 0.3941 - val_acc: 0.8225\n",
      "Epoch 5/5\n",
      " - 584s - loss: 0.3838 - acc: 0.8267 - val_loss: 0.3950 - val_acc: 0.8232\n"
     ]
    },
    {
     "data": {
      "text/plain": [
       "<keras.callbacks.History at 0x1af951ef90>"
      ]
     },
     "execution_count": 40,
     "metadata": {},
     "output_type": "execute_result"
    }
   ],
   "source": [
    "model_cnn_01 = Sequential()\n",
    "e = Embedding(100000, 200, weights=[embedding_matrix], input_length=45, trainable=False)\n",
    "model_cnn_01.add(e)\n",
    "model_cnn_01.add(Conv1D(filters=100, kernel_size=2, padding='valid', activation='relu', strides=1))\n",
    "model_cnn_01.add(GlobalMaxPooling1D())\n",
    "model_cnn_01.add(Dense(256, activation='relu'))\n",
    "model_cnn_01.add(Dense(1, activation='sigmoid'))\n",
    "model_cnn_01.compile(loss='binary_crossentropy', optimizer='adam', metrics=['accuracy'])\n",
    "model_cnn_01.fit(x_train_seq, y_train, validation_data=(x_val_seq, y_validation), epochs=5, batch_size=32, verbose=2)"
   ]
  },
  {
   "cell_type": "code",
   "execution_count": 42,
   "metadata": {},
   "outputs": [
    {
     "name": "stdout",
     "output_type": "stream",
     "text": [
      "Train on 1276832 samples, validate on 159604 samples\n",
      "Epoch 1/5\n",
      " - 7525s - loss: 0.4139 - acc: 0.8097 - val_loss: 0.3956 - val_acc: 0.8200\n",
      "Epoch 2/5\n",
      " - 7093s - loss: 0.3628 - acc: 0.8391 - val_loss: 0.3878 - val_acc: 0.8245\n",
      "Epoch 3/5\n",
      " - 6953s - loss: 0.3271 - acc: 0.8588 - val_loss: 0.3942 - val_acc: 0.8249\n",
      "Epoch 4/5\n",
      " - 6954s - loss: 0.2933 - acc: 0.8766 - val_loss: 0.4145 - val_acc: 0.8193\n",
      "Epoch 5/5\n",
      " - 6976s - loss: 0.2631 - acc: 0.8914 - val_loss: 0.4361 - val_acc: 0.8149\n"
     ]
    },
    {
     "data": {
      "text/plain": [
       "<keras.callbacks.History at 0x1af8ce5990>"
      ]
     },
     "execution_count": 42,
     "metadata": {},
     "output_type": "execute_result"
    }
   ],
   "source": [
    "model_cnn_02 = Sequential()\n",
    "e = Embedding(100000, 200, input_length=45)\n",
    "model_cnn_02.add(e)\n",
    "model_cnn_02.add(Conv1D(filters=100, kernel_size=2, padding='valid', activation='relu', strides=1))\n",
    "model_cnn_02.add(GlobalMaxPooling1D())\n",
    "model_cnn_02.add(Dense(256, activation='relu'))\n",
    "model_cnn_02.add(Dense(1, activation='sigmoid'))\n",
    "model_cnn_02.compile(loss='binary_crossentropy', optimizer='adam', metrics=['accuracy'])\n",
    "model_cnn_02.fit(x_train_seq, y_train, validation_data=(x_val_seq, y_validation), epochs=5, batch_size=32, verbose=2)"
   ]
  },
  {
   "cell_type": "code",
   "execution_count": 43,
   "metadata": {},
   "outputs": [
    {
     "name": "stdout",
     "output_type": "stream",
     "text": [
      "Train on 1276832 samples, validate on 159604 samples\n",
      "Epoch 1/5\n",
      " - 6982s - loss: 0.4064 - acc: 0.8139 - val_loss: 0.3923 - val_acc: 0.8235\n",
      "Epoch 2/5\n",
      " - 7349s - loss: 0.3674 - acc: 0.8365 - val_loss: 0.3821 - val_acc: 0.8295\n",
      "Epoch 3/5\n",
      " - 9299s - loss: 0.3399 - acc: 0.8514 - val_loss: 0.3885 - val_acc: 0.8280\n",
      "Epoch 4/5\n",
      " - 7174s - loss: 0.3136 - acc: 0.8653 - val_loss: 0.3988 - val_acc: 0.8259\n",
      "Epoch 5/5\n",
      " - 8983s - loss: 0.2872 - acc: 0.8786 - val_loss: 0.4100 - val_acc: 0.8215\n"
     ]
    },
    {
     "data": {
      "text/plain": [
       "<keras.callbacks.History at 0x1b06198850>"
      ]
     },
     "execution_count": 43,
     "metadata": {},
     "output_type": "execute_result"
    }
   ],
   "source": [
    "model_cnn_03 = Sequential()\n",
    "e = Embedding(100000, 200, weights=[embedding_matrix], input_length=45, trainable=True)\n",
    "model_cnn_03.add(e)\n",
    "model_cnn_03.add(Conv1D(filters=100, kernel_size=2, padding='valid', activation='relu', strides=1))\n",
    "model_cnn_03.add(GlobalMaxPooling1D())\n",
    "model_cnn_03.add(Dense(256, activation='relu'))\n",
    "model_cnn_03.add(Dense(1, activation='sigmoid'))\n",
    "model_cnn_03.compile(loss='binary_crossentropy', optimizer='adam', metrics=['accuracy'])\n",
    "model_cnn_03.fit(x_train_seq, y_train, validation_data=(x_val_seq, y_validation), epochs=5, batch_size=32, verbose=2)"
   ]
  },
  {
   "cell_type": "code",
   "execution_count": 25,
   "metadata": {},
   "outputs": [],
   "source": [
    "from keras.layers import Input, Dense, concatenate, Activation\n",
    "from keras.models import Model"
   ]
  },
  {
   "cell_type": "code",
   "execution_count": 44,
   "metadata": {},
   "outputs": [],
   "source": [
    "tweet_input = Input(shape=(45,), dtype='int32')\n",
    "\n",
    "tweet_encoder = Embedding(100000, 200, weights=[embedding_matrix], input_length=45, trainable=True)(tweet_input)\n",
    "\n",
    "bigram_branch = Conv1D(filters=100, kernel_size=2, padding='valid', activation='relu', strides=1)(tweet_encoder)\n",
    "bigram_branch = GlobalMaxPooling1D()(bigram_branch)\n",
    "\n",
    "trigram_branch = Conv1D(filters=100, kernel_size=3, padding='valid', activation='relu', strides=1)(tweet_encoder)\n",
    "trigram_branch = GlobalMaxPooling1D()(trigram_branch)\n",
    "\n",
    "fourgram_branch = Conv1D(filters=100, kernel_size=4, padding='valid', activation='relu', strides=1)(tweet_encoder)\n",
    "fourgram_branch = GlobalMaxPooling1D()(fourgram_branch)\n",
    "\n",
    "merged = concatenate([bigram_branch, trigram_branch, fourgram_branch], axis=1)\n",
    "\n",
    "merged = Dense(256, activation='relu')(merged)\n",
    "merged = Dropout(0.2)(merged)\n",
    "merged = Dense(1)(merged)\n",
    "output = Activation('sigmoid')(merged)\n",
    "model = Model(inputs=[tweet_input], outputs=[output])\n",
    "model.compile(loss='binary_crossentropy', optimizer='adam', metrics=['accuracy'])"
   ]
  },
  {
   "cell_type": "code",
   "execution_count": 45,
   "metadata": {},
   "outputs": [
    {
     "name": "stdout",
     "output_type": "stream",
     "text": [
      "__________________________________________________________________________________________________\n",
      "Layer (type)                    Output Shape         Param #     Connected to                     \n",
      "==================================================================================================\n",
      "input_1 (InputLayer)            (None, 45)           0                                            \n",
      "__________________________________________________________________________________________________\n",
      "embedding_13 (Embedding)        (None, 45, 200)      20000000    input_1[0][0]                    \n",
      "__________________________________________________________________________________________________\n",
      "conv1d_7 (Conv1D)               (None, 44, 100)      40100       embedding_13[0][0]               \n",
      "__________________________________________________________________________________________________\n",
      "conv1d_8 (Conv1D)               (None, 43, 100)      60100       embedding_13[0][0]               \n",
      "__________________________________________________________________________________________________\n",
      "conv1d_9 (Conv1D)               (None, 42, 100)      80100       embedding_13[0][0]               \n",
      "__________________________________________________________________________________________________\n",
      "global_max_pooling1d_6 (GlobalM (None, 100)          0           conv1d_7[0][0]                   \n",
      "__________________________________________________________________________________________________\n",
      "global_max_pooling1d_7 (GlobalM (None, 100)          0           conv1d_8[0][0]                   \n",
      "__________________________________________________________________________________________________\n",
      "global_max_pooling1d_8 (GlobalM (None, 100)          0           conv1d_9[0][0]                   \n",
      "__________________________________________________________________________________________________\n",
      "concatenate_1 (Concatenate)     (None, 300)          0           global_max_pooling1d_6[0][0]     \n",
      "                                                                 global_max_pooling1d_7[0][0]     \n",
      "                                                                 global_max_pooling1d_8[0][0]     \n",
      "__________________________________________________________________________________________________\n",
      "dense_21 (Dense)                (None, 256)          77056       concatenate_1[0][0]              \n",
      "__________________________________________________________________________________________________\n",
      "dropout_1 (Dropout)             (None, 256)          0           dense_21[0][0]                   \n",
      "__________________________________________________________________________________________________\n",
      "dense_22 (Dense)                (None, 1)            257         dropout_1[0][0]                  \n",
      "__________________________________________________________________________________________________\n",
      "activation_1 (Activation)       (None, 1)            0           dense_22[0][0]                   \n",
      "==================================================================================================\n",
      "Total params: 20,257,613\n",
      "Trainable params: 20,257,613\n",
      "Non-trainable params: 0\n",
      "__________________________________________________________________________________________________\n"
     ]
    }
   ],
   "source": [
    "model.summary()"
   ]
  },
  {
   "cell_type": "code",
   "execution_count": 46,
   "metadata": {},
   "outputs": [
    {
     "name": "stdout",
     "output_type": "stream",
     "text": [
      "Train on 1276832 samples, validate on 159604 samples\n",
      "Epoch 1/5\n",
      "1276832/1276832 [==============================] - 12104s 9ms/step - loss: 0.4068 - acc: 0.8161 - val_loss: 0.3845 - val_acc: 0.8287\n",
      "\n",
      "Epoch 00001: val_acc improved from -inf to 0.82866, saving model to CNN_best_weights.01-0.8287.hdf5\n",
      "Epoch 2/5\n",
      "1276832/1276832 [==============================] - 11796s 9ms/step - loss: 0.3664 - acc: 0.8392 - val_loss: 0.3970 - val_acc: 0.8305\n",
      "\n",
      "Epoch 00002: val_acc improved from 0.82866 to 0.83050, saving model to CNN_best_weights.02-0.8305.hdf5\n",
      "Epoch 3/5\n",
      "1276832/1276832 [==============================] - 10981s 9ms/step - loss: 0.3366 - acc: 0.8547 - val_loss: 0.3903 - val_acc: 0.8292\n",
      "\n",
      "Epoch 00003: val_acc did not improve from 0.83050\n",
      "Epoch 4/5\n",
      "1276832/1276832 [==============================] - 10904s 9ms/step - loss: 0.3034 - acc: 0.8717 - val_loss: 0.3935 - val_acc: 0.8276\n",
      "\n",
      "Epoch 00004: val_acc did not improve from 0.83050\n",
      "Epoch 5/5\n",
      "1276832/1276832 [==============================] - 11214s 9ms/step - loss: 0.2696 - acc: 0.8879 - val_loss: 0.4275 - val_acc: 0.8210\n",
      "\n",
      "Epoch 00005: val_acc did not improve from 0.83050\n"
     ]
    },
    {
     "data": {
      "text/plain": [
       "<keras.callbacks.History at 0x1b061b1a10>"
      ]
     },
     "execution_count": 46,
     "metadata": {},
     "output_type": "execute_result"
    }
   ],
   "source": [
    "# Saving trained weights\n",
    "from keras.callbacks import ModelCheckpoint\n",
    "\n",
    "filepath=\"CNN_best_weights.{epoch:02d}-{val_acc:.4f}.hdf5\"\n",
    "checkpoint = ModelCheckpoint(filepath, monitor='val_acc', verbose=1, save_best_only=True, mode='max')\n",
    "\n",
    "model.fit(x_train_seq, y_train, batch_size=32, epochs=5, validation_data=(x_val_seq, y_validation), callbacks = [checkpoint])"
   ]
  },
  {
   "cell_type": "code",
   "execution_count": 49,
   "metadata": {},
   "outputs": [
    {
     "name": "stdout",
     "output_type": "stream",
     "text": [
      "159604/159604 [==============================] - 78s 489us/step\n"
     ]
    },
    {
     "data": {
      "text/plain": [
       "[0.3969811671721464, 0.8304992356096239]"
      ]
     },
     "execution_count": 49,
     "metadata": {},
     "output_type": "execute_result"
    }
   ],
   "source": [
    "from keras.models import load_model\n",
    "loaded_CNN_model = load_model('CNN_best_weights.02-0.8305.hdf5')\n",
    "loaded_CNN_model.evaluate(x=x_val_seq, y=y_validation)"
   ]
  },
  {
   "cell_type": "markdown",
   "metadata": {},
   "source": [
    "### Model evaluation"
   ]
  },
  {
   "cell_type": "code",
   "execution_count": 51,
   "metadata": {},
   "outputs": [
    {
     "data": {
      "text/plain": [
       "TfidfVectorizer(analyzer=u'word', binary=False, decode_error=u'strict',\n",
       "        dtype=<type 'numpy.float64'>, encoding=u'utf-8', input=u'content',\n",
       "        lowercase=True, max_df=1.0, max_features=100000, min_df=1,\n",
       "        ngram_range=(1, 3), norm=u'l2', preprocessor=None, smooth_idf=True,\n",
       "        stop_words=None, strip_accents=None, sublinear_tf=False,\n",
       "        token_pattern=u'(?u)\\\\b\\\\w\\\\w+\\\\b', tokenizer=None, use_idf=True,\n",
       "        vocabulary=None)"
      ]
     },
     "execution_count": 51,
     "metadata": {},
     "output_type": "execute_result"
    }
   ],
   "source": [
    "from sklearn.feature_extraction.text import TfidfVectorizer\n",
    "tvec = TfidfVectorizer(max_features=100000,ngram_range=(1, 3))\n",
    "tvec.fit(x_train)"
   ]
  },
  {
   "cell_type": "code",
   "execution_count": 52,
   "metadata": {},
   "outputs": [],
   "source": [
    "x_train_tfidf = tvec.transform(x_train)\n",
    "x_test_tfidf = tvec.transform(x_test)"
   ]
  },
  {
   "cell_type": "code",
   "execution_count": 54,
   "metadata": {},
   "outputs": [
    {
     "name": "stderr",
     "output_type": "stream",
     "text": [
      "/Users/apple/anaconda3/lib/python2.7/site-packages/sklearn/linear_model/logistic.py:433: FutureWarning: Default solver will be changed to 'lbfgs' in 0.22. Specify a solver to silence this warning.\n",
      "  FutureWarning)\n"
     ]
    },
    {
     "data": {
      "text/plain": [
       "LogisticRegression(C=1.0, class_weight=None, dual=False, fit_intercept=True,\n",
       "          intercept_scaling=1, max_iter=100, multi_class='warn',\n",
       "          n_jobs=None, penalty='l2', random_state=None, solver='warn',\n",
       "          tol=0.0001, verbose=0, warm_start=False)"
      ]
     },
     "execution_count": 54,
     "metadata": {},
     "output_type": "execute_result"
    }
   ],
   "source": [
    "from sklearn.linear_model import LogisticRegression\n",
    "\n",
    "lr_with_tfidf = LogisticRegression()\n",
    "lr_with_tfidf.fit(x_train_tfidf,y_train)"
   ]
  },
  {
   "cell_type": "code",
   "execution_count": 55,
   "metadata": {},
   "outputs": [
    {
     "data": {
      "text/plain": [
       "0.8248363146517966"
      ]
     },
     "execution_count": 55,
     "metadata": {},
     "output_type": "execute_result"
    }
   ],
   "source": [
    "lr_with_tfidf.score(x_test_tfidf,y_test)"
   ]
  },
  {
   "cell_type": "code",
   "execution_count": 56,
   "metadata": {},
   "outputs": [],
   "source": [
    "yhat_lr = lr_with_tfidf.predict_proba(x_test_tfidf)\n",
    "\n",
    "sequences_test = tokenizer.texts_to_sequences(x_test)\n",
    "x_test_seq = pad_sequences(sequences_test, maxlen=45)"
   ]
  },
  {
   "cell_type": "code",
   "execution_count": 57,
   "metadata": {},
   "outputs": [
    {
     "name": "stdout",
     "output_type": "stream",
     "text": [
      "159605/159605 [==============================] - 75s 470us/step\n"
     ]
    },
    {
     "data": {
      "text/plain": [
       "[0.3945501059690539, 0.8313962595167997]"
      ]
     },
     "execution_count": 57,
     "metadata": {},
     "output_type": "execute_result"
    }
   ],
   "source": [
    "loaded_CNN_model.evaluate(x=x_test_seq, y=y_test)"
   ]
  },
  {
   "cell_type": "code",
   "execution_count": 59,
   "metadata": {},
   "outputs": [],
   "source": [
    "yhat_cnn = loaded_CNN_model.predict(x_test_seq)"
   ]
  },
  {
   "cell_type": "code",
   "execution_count": 60,
   "metadata": {},
   "outputs": [
    {
     "data": {
      "image/png": "[encoded data removed]",
      "text/plain": [
       "<Figure size 576x504 with 1 Axes>"
      ]
     },
     "metadata": {
      "image/png": {
       "height": 448,
       "width": 563
      },
      "needs_background": "light"
     },
     "output_type": "display_data"
    }
   ],
   "source": [
    "from sklearn.metrics import roc_curve, auc\n",
    "\n",
    "fpr, tpr, threshold = roc_curve(y_test, yhat_lr[:,1])\n",
    "roc_auc = auc(fpr, tpr)\n",
    "fpr_cnn, tpr_cnn, threshold = roc_curve(y_test, yhat_cnn)\n",
    "roc_auc_nn = auc(fpr_cnn, tpr_cnn)\n",
    "plt.figure(figsize=(8,7))\n",
    "plt.plot(fpr, tpr, label='tfidf-logit (area = %0.3f)' % roc_auc, linewidth=2)\n",
    "plt.plot(fpr_cnn, tpr_cnn, label='w2v-CNN (area = %0.3f)' % roc_auc_nn, linewidth=2)\n",
    "\n",
    "plt.plot([0, 1], [0, 1], 'k--', linewidth=2)\n",
    "plt.xlim([-0.05, 1.0])\n",
    "plt.ylim([-0.05, 1.05])\n",
    "plt.xlabel('False Positive Rate', fontsize=18)\n",
    "plt.ylabel('True Positive Rate', fontsize=18)\n",
    "plt.title('Receiver operating characteristic: is positive', fontsize=18)\n",
    "plt.legend(loc=\"lower right\")\n",
    "plt.show()"
   ]
  },
  {
   "cell_type": "markdown",
   "metadata": {},
   "source": []
  }
 ],
 "metadata": {
  "kernelspec": {
   "display_name": "Python (MAIS-202)",
   "language": "python",
   "name": ".mais-env"
  },
  "language_info": {
   "codemirror_mode": {
    "name": "ipython",
    "version": 3
   },
   "file_extension": ".py",
   "mimetype": "text/x-python",
   "name": "python",
   "nbconvert_exporter": "python",
   "pygments_lexer": "ipython3",
   "version": "3.6.8"
  }
 },
 "nbformat": 4,
 "nbformat_minor": 2
}
